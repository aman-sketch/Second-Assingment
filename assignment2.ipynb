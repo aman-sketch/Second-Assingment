{
 "cells": [
  {
   "cell_type": "markdown",
   "id": "46d87ffc-0500-48b5-9d3d-074984a42094",
   "metadata": {},
   "source": [
    "Q1 How do you comment code in Python? What are the different types of comments?"
   ]
  },
  {
   "cell_type": "markdown",
   "id": "f093f3b1-a69e-4e05-8142-03dc12b85e92",
   "metadata": {},
   "source": [
    "We can comment code in python in two ways first one is using # and  second one is using ''' coment'''. \n",
    "There are three types of comments in python are :\n",
    "1. Single Line comments\n",
    "2. Multiple Line comments\n",
    "3. Docstring comments"
   ]
  },
  {
   "cell_type": "code",
   "execution_count": 4,
   "id": "86941c88-1fdb-497f-a3a5-ff82fe50b9ac",
   "metadata": {},
   "outputs": [
    {
     "name": "stdout",
     "output_type": "stream",
     "text": [
      "this is single line comment\n"
     ]
    }
   ],
   "source": [
    "#This is comment\n",
    "print(\"this is single line comment\")"
   ]
  },
  {
   "cell_type": "code",
   "execution_count": 6,
   "id": "d07932c9-32f4-4f98-b4f0-1a57d3669ebd",
   "metadata": {},
   "outputs": [
    {
     "name": "stdout",
     "output_type": "stream",
     "text": [
      "this is multi line comment\n"
     ]
    }
   ],
   "source": [
    "#this is comment\n",
    "#this is comment, too\n",
    "#this is multiple line comment\n",
    "print(\"this is multi line comment\")"
   ]
  },
  {
   "cell_type": "code",
   "execution_count": 7,
   "id": "503b369a-bcb1-4b4f-a83e-307f58909a24",
   "metadata": {},
   "outputs": [
    {
     "name": "stdout",
     "output_type": "stream",
     "text": [
      "this is docstring comments\n"
     ]
    }
   ],
   "source": [
    "'''\n",
    "This is comment \n",
    "written in \n",
    "more than just \n",
    "one line'''\n",
    "print(\"this is docstring comments\")"
   ]
  },
  {
   "cell_type": "markdown",
   "id": "111bb7e0-cb7a-45a0-8219-f355858f84fe",
   "metadata": {},
   "source": [
    "Q2 What are variables in Python? How do you declare and assign values to variables?\n"
   ]
  },
  {
   "cell_type": "markdown",
   "id": "2875ad3b-57be-4992-866b-815d898a36c6",
   "metadata": {},
   "source": [
    "Ans2. Variable is a name that is used to refer to memory location. Python  variable is also knowns as an identifier and used to hold value.\n",
    "We can say that variables are containers for storing data values.\n",
    "A variable is created that moment assign a value to it.\n",
    "Example \n",
    "a = 10\n",
    "b = 5\n",
    "print(x)\n",
    "print(y)\n"
   ]
  },
  {
   "cell_type": "markdown",
   "id": "85ffc620-043c-49fd-8b6f-3964d252e31e",
   "metadata": {},
   "source": [
    "Q3 How do you convert one data type to another in Python?\n",
    "\n",
    "Ans. We can convert one data type to another data type using function. There are several buil-in funtions to perform conversion one data type to another."
   ]
  },
  {
   "cell_type": "code",
   "execution_count": 23,
   "id": "66433d9e-8bd7-4fbd-814d-6b2b7034f61a",
   "metadata": {},
   "outputs": [
    {
     "name": "stdout",
     "output_type": "stream",
     "text": [
      "<class 'int'>\n"
     ]
    }
   ],
   "source": [
    "#Example conversion \n",
    "a = '10' #string to int conversion\n",
    "print(type(int(a)))"
   ]
  },
  {
   "cell_type": "code",
   "execution_count": 25,
   "id": "c2296f36-860d-42af-b6dc-9ca2c94e13ea",
   "metadata": {},
   "outputs": [
    {
     "name": "stdout",
     "output_type": "stream",
     "text": [
      "<class 'str'>\n"
     ]
    }
   ],
   "source": [
    "a =15 #int to string conversion\n",
    "print(type(str(a)))"
   ]
  },
  {
   "cell_type": "markdown",
   "id": "a8a51f58-806b-4e70-8bd7-dadcf505e358",
   "metadata": {},
   "source": [
    "Q4 How do you write and execute a Python script from the command line?\n",
    "\n",
    "Ans We can execute the Python script with the python command."
   ]
  },
  {
   "cell_type": "code",
   "execution_count": null,
   "id": "ade2ed67-ca6b-4fd7-a9e3-f6129d038e1f",
   "metadata": {},
   "outputs": [],
   "source": []
  },
  {
   "cell_type": "markdown",
   "id": "24c7b372-a667-4ae8-ba08-058aec2ae09d",
   "metadata": {},
   "source": [
    "Q5 Given a list my_list = [1, 2, 3, 4, 5], write the code to slice the list and obtain the sub-list [2, 3]."
   ]
  },
  {
   "cell_type": "code",
   "execution_count": 33,
   "id": "4f9e268a-17d2-46cc-8f1a-2a94a392b17c",
   "metadata": {},
   "outputs": [
    {
     "data": {
      "text/plain": [
       "[2, 3]"
      ]
     },
     "execution_count": 33,
     "metadata": {},
     "output_type": "execute_result"
    }
   ],
   "source": [
    "my_list=[1,2,3,4,5]\n",
    "my_list[1:3]"
   ]
  },
  {
   "cell_type": "markdown",
   "id": "952a9c08-351a-4e2a-9fc0-1d8e1aefe8e6",
   "metadata": {},
   "source": [
    "Q6 What is a complex number in mathematics, and how is it represented in Python?\n",
    "\n",
    "Ans:- In mathmatics,Complex numbers are the numbers that are expressed in form of a+bi Where, a and b is real number and 'i' is an imaginary number.\n",
    "In pyhton complex number is represent as a+bj where a,b is real number and 'j' is an imaginary number.\n",
    "example\n",
    "(5+8j)\n"
   ]
  },
  {
   "cell_type": "code",
   "execution_count": null,
   "id": "bf95e23c-fd44-4c5a-ac5f-618d1c766af1",
   "metadata": {},
   "outputs": [],
   "source": []
  },
  {
   "cell_type": "code",
   "execution_count": 48,
   "id": "93120c49-2a00-453e-a86c-c0cfcae37793",
   "metadata": {},
   "outputs": [
    {
     "name": "stdout",
     "output_type": "stream",
     "text": [
      "5.0\n"
     ]
    },
    {
     "data": {
      "text/plain": [
       "8.0"
      ]
     },
     "execution_count": 48,
     "metadata": {},
     "output_type": "execute_result"
    }
   ],
   "source": [
    "a = 5+8j\n",
    "type(a)\n",
    "print(a.real)\n",
    "a.imag"
   ]
  },
  {
   "cell_type": "markdown",
   "id": "894954de-d859-4356-b9dd-ccf20c1f6d58",
   "metadata": {},
   "source": [
    "Q7 What is the correct way to declare a variable named age and assign the value 25 to it?\n",
    "\n",
    "Ans:- age = 25"
   ]
  },
  {
   "cell_type": "code",
   "execution_count": 49,
   "id": "df743c50-4c57-4933-a9c9-55db4cb6a97c",
   "metadata": {},
   "outputs": [],
   "source": [
    "age = 25"
   ]
  },
  {
   "cell_type": "code",
   "execution_count": 50,
   "id": "e841b261-2c85-4119-b33b-79babfc7dfc2",
   "metadata": {},
   "outputs": [
    {
     "data": {
      "text/plain": [
       "25"
      ]
     },
     "execution_count": 50,
     "metadata": {},
     "output_type": "execute_result"
    }
   ],
   "source": [
    "age"
   ]
  },
  {
   "cell_type": "markdown",
   "id": "b2ad815f-2a70-475a-a294-2fa3966a1548",
   "metadata": {},
   "source": [
    "Q8 Declare a variable named price and assign the value 9.99 to it. What data type does this variable\n",
    "belong to?\n",
    "\n",
    "Ans:- we can check which type of data in this variable using type() function."
   ]
  },
  {
   "cell_type": "code",
   "execution_count": 52,
   "id": "acbef52e-5395-42cf-ad1e-46ae211854a8",
   "metadata": {},
   "outputs": [
    {
     "name": "stdout",
     "output_type": "stream",
     "text": [
      "<class 'float'>\n"
     ]
    }
   ],
   "source": [
    "# Ans8\n",
    "price =9.99\n",
    "print(type(price))"
   ]
  },
  {
   "cell_type": "markdown",
   "id": "3ea78d02-2636-4908-9923-6ee2b497e25e",
   "metadata": {},
   "source": [
    "Q9 Create a variable named name and assign your full name to it as a string. How would you print the\n",
    "value of this variable?\n",
    "\n",
    "Ans: We can print tha value of this variable using print() function. "
   ]
  },
  {
   "cell_type": "code",
   "execution_count": 53,
   "id": "b93686c8-5d22-4a83-890c-73d4f9322b44",
   "metadata": {},
   "outputs": [
    {
     "name": "stdout",
     "output_type": "stream",
     "text": [
      "Aman Salmani\n"
     ]
    }
   ],
   "source": [
    "# Example Ans 9\n",
    "name = \"Aman Salmani\"\n",
    "print(name)"
   ]
  },
  {
   "cell_type": "markdown",
   "id": "dc63d59a-01b3-48f2-9f1a-5f3b93e88031",
   "metadata": {},
   "source": [
    "Q10 Given the string \"Hello, World!\", extract the substring \"World\"."
   ]
  },
  {
   "cell_type": "code",
   "execution_count": 58,
   "id": "7fc5b609-89ae-4a9b-8a83-e100d2464bd1",
   "metadata": {},
   "outputs": [
    {
     "data": {
      "text/plain": [
       "11"
      ]
     },
     "execution_count": 58,
     "metadata": {},
     "output_type": "execute_result"
    }
   ],
   "source": [
    "s=\"Hello,World\"\n",
    "len(s)"
   ]
  },
  {
   "cell_type": "code",
   "execution_count": 62,
   "id": "9c658f85-6e00-41c6-aff0-cfaa80aa8859",
   "metadata": {},
   "outputs": [
    {
     "data": {
      "text/plain": [
       "'World'"
      ]
     },
     "execution_count": 62,
     "metadata": {},
     "output_type": "execute_result"
    }
   ],
   "source": [
    "s[6:11]"
   ]
  },
  {
   "cell_type": "markdown",
   "id": "49fd87da-ac6d-45ef-ace1-daf0612b0d00",
   "metadata": {},
   "source": [
    "Q11. Create a variable named \"is_student\" and assign it a boolean value indicating whether you are\n",
    "currently a student or not."
   ]
  },
  {
   "cell_type": "code",
   "execution_count": 81,
   "id": "25ea3388-4b42-4d0e-b337-9ef939322c86",
   "metadata": {},
   "outputs": [
    {
     "name": "stdout",
     "output_type": "stream",
     "text": [
      "False\n"
     ]
    }
   ],
   "source": [
    "is_student =False\n",
    "print((is_student))"
   ]
  },
  {
   "cell_type": "code",
   "execution_count": null,
   "id": "bbd82037-122c-44f3-97e6-ad0cdb70e386",
   "metadata": {},
   "outputs": [],
   "source": []
  },
  {
   "cell_type": "code",
   "execution_count": null,
   "id": "eb005c64-2de5-4e87-9b56-ac5d163615f7",
   "metadata": {},
   "outputs": [],
   "source": []
  }
 ],
 "metadata": {
  "kernelspec": {
   "display_name": "Python 3 (ipykernel)",
   "language": "python",
   "name": "python3"
  },
  "language_info": {
   "codemirror_mode": {
    "name": "ipython",
    "version": 3
   },
   "file_extension": ".py",
   "mimetype": "text/x-python",
   "name": "python",
   "nbconvert_exporter": "python",
   "pygments_lexer": "ipython3",
   "version": "3.10.6"
  }
 },
 "nbformat": 4,
 "nbformat_minor": 5
}
